{
  "nbformat": 4,
  "nbformat_minor": 0,
  "metadata": {
    "colab": {
      "provenance": [],
      "authorship_tag": "ABX9TyORsEYGpFp58TE/leW/YsO/",
      "include_colab_link": true
    },
    "kernelspec": {
      "name": "python3",
      "display_name": "Python 3"
    },
    "language_info": {
      "name": "python"
    }
  },
  "cells": [
    {
      "cell_type": "markdown",
      "metadata": {
        "id": "view-in-github",
        "colab_type": "text"
      },
      "source": [
        "<a href=\"https://colab.research.google.com/github/Warmvne/Machine-Learning/blob/main/ExerciceTF.ipynb\" target=\"_parent\"><img src=\"https://colab.research.google.com/assets/colab-badge.svg\" alt=\"Open In Colab\"/></a>"
      ]
    },
    {
      "cell_type": "code",
      "execution_count": 4,
      "metadata": {
        "id": "2uEMyzrjvyH9"
      },
      "outputs": [],
      "source": [
        "import tensorflow as tf\n",
        "from os import path, getcwd, chdir\n",
        "\n",
        "path =f\"{getcwd()}/data/mnist.npz\""
      ]
    },
    {
      "cell_type": "code",
      "source": [
        "def train_mnist():\n",
        "\n",
        "  class myCallBack(tf.keras.callbacks.Callback):\n",
        "    def on_epoch_end(self, epoch, logs={}):\n",
        "      if(logs.get('accuracy')>0.99):\n",
        "        print(\"\\nReached 99% accuracy so cancelling training!\")\n",
        "        self.model.stop_training = True\n",
        "\n",
        "  mnist = tf.keras.datasets.mnist\n",
        "\n",
        "  (x_train, y_train),(x_test, y_test) = mnist.load_data(path=path)\n",
        "\n",
        "  x_train = x_train/255.0\n",
        "  x_test = x_test/255.0\n",
        "\n",
        "  callbacks = myCallBack()\n",
        "\n",
        "  model = tf.keras.models.Sequential([tf.keras.layers.Flatten(input_shape=(28, 28)),\n",
        "                                    tf.keras.layers.Dense(512, activation=tf.nn.relu),\n",
        "                                    tf.keras.layers.Dense(10,activation=tf.nn.softmax)])\n",
        "\n",
        "  model.compile(optimizer= tf.optimizers.Adam(),\n",
        "              loss = 'sparse_categorical_crossentropy',\n",
        "              metrics=['accuracy'])\n",
        "\n",
        "  model.fit(x_train,y_train, epochs=10, callbacks=[callbacks])\n",
        "\n",
        "  return model.evaluate(x_test,y_test)"
      ],
      "metadata": {
        "id": "ueWW8bFTwITI"
      },
      "execution_count": 14,
      "outputs": []
    },
    {
      "cell_type": "code",
      "source": [
        "#loss,accuracy=train_mnist()\n",
        "#print(\"\\n LOSS: \",loss)\n",
        "#print(\"\\n ACCURACY: \", accuracy)\n",
        "train_mnist()"
      ],
      "metadata": {
        "colab": {
          "base_uri": "https://localhost:8080/"
        },
        "id": "Rxnf0KLp1XzW",
        "outputId": "9328f18e-e265-4adb-a6fd-641aae748b01"
      },
      "execution_count": 15,
      "outputs": [
        {
          "output_type": "stream",
          "name": "stdout",
          "text": [
            "Epoch 1/10\n",
            "1875/1875 [==============================] - 11s 6ms/step - loss: 0.2006 - accuracy: 0.9414\n",
            "Epoch 2/10\n",
            "1875/1875 [==============================] - 10s 6ms/step - loss: 0.0789 - accuracy: 0.9759\n",
            "Epoch 3/10\n",
            "1875/1875 [==============================] - 10s 5ms/step - loss: 0.0522 - accuracy: 0.9836\n",
            "Epoch 4/10\n",
            "1875/1875 [==============================] - 10s 5ms/step - loss: 0.0359 - accuracy: 0.9889\n",
            "Epoch 5/10\n",
            "1867/1875 [============================>.] - ETA: 0s - loss: 0.0267 - accuracy: 0.9914\n",
            "Reached 99% accuracy so cancelling training!\n",
            "1875/1875 [==============================] - 10s 6ms/step - loss: 0.0267 - accuracy: 0.9913\n",
            "313/313 [==============================] - 1s 2ms/step - loss: 0.0661 - accuracy: 0.9811\n"
          ]
        },
        {
          "output_type": "execute_result",
          "data": {
            "text/plain": [
              "[0.06611236929893494, 0.9811000227928162]"
            ]
          },
          "metadata": {},
          "execution_count": 15
        }
      ]
    }
  ]
}